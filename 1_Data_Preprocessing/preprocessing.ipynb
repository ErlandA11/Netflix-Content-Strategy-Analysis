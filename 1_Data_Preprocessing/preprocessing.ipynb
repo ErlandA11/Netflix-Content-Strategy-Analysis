import pandas as pd
import plotly.express as px
import plotly.graph_objects as go
import plotly.io as pio

# Atur template default Plotly
pio.templates.default = "plotly_white"

from google.colab import files

# Unggah file dari komputer lokal
uploaded = files.upload()

# Periksa nama file yang diunggah
for file_name in uploaded.keys():
    print(f"File {file_name} berhasil diunggah.")

# Membaca file CSV menggunakan pandas
import pandas as pd
netflix_data = pd.read_csv("netflix_content_2023.csv")

# Menampilkan 5 baris pertama dari data
print(netflix_data.head())